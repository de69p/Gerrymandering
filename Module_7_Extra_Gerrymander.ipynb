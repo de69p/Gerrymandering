{
 "nbformat": 4,
 "nbformat_minor": 0,
 "metadata": {
  "colab": {
   "name": "5012_Mod7_Gerrymander",
   "provenance": [],
   "collapsed_sections": []
  },
  "kernelspec": {
   "display_name": "Python 3",
   "language": "python",
   "name": "python3"
  },
  "language_info": {
   "codemirror_mode": {
    "name": "ipython",
    "version": 3
   },
   "file_extension": ".py",
   "mimetype": "text/x-python",
   "name": "python",
   "nbconvert_exporter": "python",
   "pygments_lexer": "ipython3",
   "version": "3.7.7"
  }
 },
 "cells": [
  {
   "cell_type": "markdown",
   "metadata": {
    "id": "aUUsijeg_KV9"
   },
   "source": "# **Gerrymandering HW**"
  },
  {
   "cell_type": "markdown",
   "metadata": {
    "id": "SSTFnF4iqfBQ"
   },
   "source": [
    "### Storage\n",
    "For data storage and retrieval SQLite is used.  Here, we establish a connection to the database and define a cursor to be used throughout."
   ]
  },
  {
   "cell_type": "code",
   "metadata": {
    "id": "gnyphm3hrXdE",
    "ExecuteTime": {
     "end_time": "2024-11-08T20:50:42.476271Z",
     "start_time": "2024-11-08T20:50:42.472768Z"
    }
   },
   "source": [
    "import math\n",
    "import sqlite3  # https://docs.python.org/3/library/sqlite3.html\n",
    "import warnings\n",
    "import numpy as np\n",
    "import pandas as pd\n",
    "\n",
    "warnings.filterwarnings(\"ignore\")\n",
    "\n",
    "## Establish a connection to our database\n",
    "conn = sqlite3.connect('gerrymander.db')\n",
    "\n",
    "## Create a cursor to execute commands through the connection\n",
    "cursor = conn.cursor()"
   ],
   "outputs": [],
   "execution_count": 378
  },
  {
   "cell_type": "code",
   "metadata": {
    "id": "nEH2Zat2rowu",
    "ExecuteTime": {
     "end_time": "2024-11-08T20:50:42.499360Z",
     "start_time": "2024-11-08T20:50:42.494240Z"
    }
   },
   "source": [
    "## When recreate is True,  drop all database tables and recreate them for an updated, clean deployment.\n",
    "\n",
    "recreate = True\n",
    "\n",
    "if recreate:\n",
    "    cursor.execute(\"DROP TABLE IF EXISTS precinct\")\n",
    "    cursor.execute(\"DROP TABLE IF EXISTS party\")\n",
    "    cursor.execute(\"DROP VIEW IF EXISTS for_algo\")\n",
    "    conn.commit()\n",
    "\n",
    "    # Quick verification to make sure everything was dropped\n",
    "    cursor.execute(\"SELECT name FROM sqlite_master WHERE type='table'\")\n",
    "    cursor.fetchall()"
   ],
   "outputs": [],
   "execution_count": 379
  },
  {
   "cell_type": "markdown",
   "metadata": {
    "id": "5GJyNeC_5KpK"
   },
   "source": [
    "### Data and scripts on GitHub\n",
    "The scripts for building the database, including the data and schema, are in a github repository. urllib3 library is used to communicate over https.  "
   ]
  },
  {
   "cell_type": "code",
   "metadata": {
    "id": "bjs2nOzOqghR",
    "ExecuteTime": {
     "end_time": "2024-11-08T20:50:42.519286Z",
     "start_time": "2024-11-08T20:50:42.517255Z"
    }
   },
   "source": [
    "## SQL Scripts are in Github\n",
    "## prepare to read from github\n",
    "import urllib3\n",
    "\n",
    "urllib3.disable_warnings(urllib3.exceptions.InsecureRequestWarning)\n",
    "gitread = urllib3.PoolManager()"
   ],
   "outputs": [],
   "execution_count": 380
  },
  {
   "cell_type": "markdown",
   "metadata": {
    "id": "KTgSM3YsAd0b"
   },
   "source": [
    "## 1) Provide an Introduction (10 pts)\n",
    "\n",
    "### **Problem Statement: Gerrymandering**\n",
    "\n",
    "Gerrymandering is the practice of manipulating the boundaries of electoral districts to favor one political party over another. The goal is to group precincts into two districts such that each district has an equal number of precincts and a majority of votes for the specified party. This manipulation aims to maximize the number of districts won by the targeted party.\n",
    "\n",
    "### **Variables Definition**\n",
    "- **$n$**: The total number of precincts.\n",
    "- **$m$**: The number of voters per precinct (assumed to be constant).\n",
    "- **$REP\\_VOTES_i$**: The number of Republican votes in precinct $i$.\n",
    "- **$DEM\\_VOTES_i$**: The number of Democratic votes in precinct $i$.\n",
    "- **$Total\\_Votes_i$**: The total number of votes in precinct $i$, where $Total\\_Votes_i = REP\\_VOTES_i + DEM\\_VOTES_i$.\n",
    "- **$D1$**: District 1 (a subset of precincts).\n",
    "- **$D2$**: District 2 (a subset of precincts).\n",
    "\n",
    "### **Assumptions**\n",
    "1. The number of precincts, $n$, is always even, ensuring equal division between two districts.\n",
    "2. Each precinct has exactly $m$ voters.\n",
    "3. Voters vote strictly along party lines, either Republican or Democratic.\n",
    "4. A valid solution requires each district ($D1$ and $D2$) to have a majority of Republican votes, i.e., more than $\\frac{m \\times n}{4}$ votes.\n",
    "5. The solution is implemented using a dynamic programming approach to optimize the assignment of precincts to two districts.\n",
    "\n",
    "### **Objective**\n",
    "The objective is to determine whether it is possible to assign the precincts to two districts such that:\n",
    "- Each district has exactly $\\frac{n}{2}$ precincts.\n",
    "- Each district has a majority of votes for the Republican party.\n",
    "\n",
    "This problem is solved using dynamic programming, which allows us to efficiently explore all possible partitions of the precincts."
   ]
  },
  {
   "cell_type": "markdown",
   "metadata": {
    "id": "iMX-aytKpLAI"
   },
   "source": [
    "## 2) Dynamic Programming Solution (20 pts)\n",
    "\n",
    "### **Solution Overview**\n",
    "\n",
    "The goal is to determine if it's possible to gerrymander the precincts into two districts such that:\n",
    "1. Each district has exactly $ \\frac{n}{2} $ precincts.\n",
    "2. Each district has a majority of votes for the Republican party, i.e., more than $ \\frac{m \\times n}{4} $ Republican votes.\n",
    "\n",
    "To achieve this, a **dynamic programming** approach is used to explore all possible assignments of precincts to two districts while optimizing the distribution of Republican votes.\n",
    "\n",
    "### **Dynamic Programming Table Definition**\n",
    "We define a 4-dimensional DP table $ S[j, k, x, y] $ where:\n",
    "- **$ j $**: The number of precincts considered so far.\n",
    "- **$ k $**: The number of precincts assigned to District 1.\n",
    "- **$ x $**: The total number of Republican votes in District 1.\n",
    "- **$ y $**: The total number of Republican votes in District 2.\n",
    "\n",
    "The entry $ S[j, k, x, y] $ is **True** if it's possible to assign the first $ j $ precincts such that:\n",
    "- Exactly $ k $ precincts are assigned to District 1.\n",
    "- District 1 has exactly $ x $ Republican votes.\n",
    "- District 2 has exactly $ y $ Republican votes.\n",
    "\n",
    "### **Base Case**\n",
    "The base case is:\n",
    "$ S[0, 0, 0, 0] = \\text{True} $\n",
    "\n",
    "This represents the scenario where no precincts have been assigned yet, and both districts have zero votes.\n",
    "\n",
    "### **Recurrence Relation**\n",
    "The recurrence relation is defined as follows:\n",
    "$ S[j, k, x, y] = $\n",
    "\\[\n",
    "\\begin{cases}\n",
    "S[j-1, k-1, x - REP\\_VOTES_j, y] & \\text{if precinct } j \\text{ is assigned to District 1} \\\\\n",
    "S[j-1, k, x, y - REP\\_VOTES_j] & \\text{if precinct } j \\text{ is assigned to District 2}\n",
    "\\end{cases}\n",
    "\\]\n",
    "\n",
    "- If precinct $ j $ is assigned to District 1:\n",
    "  - $ k $ is increased by 1 (i.e., one more precinct in District 1).\n",
    "  - The Republican votes in District 1 ($ x $) increase by $ REP\\_VOTES_j $.\n",
    "  \n",
    "- If precinct $ j $ is assigned to District 2:\n",
    "  - The Republican votes in District 2 ($ y $) increase by $ REP\\_VOTES_j $.\n",
    "\n",
    "### **Gerrymandering Solution Check**\n",
    "To determine if gerrymandering is possible, we check:\n",
    "$ \\exists \\; x, y \\; \\text{ such that } S[n, \\frac{n}{2}, x, y] = \\text{True}, \\; \\text{where } x > \\frac{m \\times n}{4} \\text{ and } y > \\frac{m \\times n}{4} $\n",
    "\n",
    "If such values of $ x $ and $ y $ are found, gerrymandering is possible. The solution is then reconstructed to show which precincts belong to each district.\n"
   ]
  },
  {
   "cell_type": "markdown",
   "metadata": {
    "id": "PUtLkgvJ241n"
   },
   "source": [
    "# 3) Implement your Gerrymandering Algorithm (code) (40 pts)\n",
    "\n",
    "Provide ample comments and justify each line of code. You may wish to use or implement a sparse matrix (or something similar) to store the \"memos\". "
   ]
  },
  {
   "cell_type": "code",
   "metadata": {
    "id": "AJpRKbIi22Wo",
    "ExecuteTime": {
     "end_time": "2024-11-08T20:50:42.539593Z",
     "start_time": "2024-11-08T20:50:42.534500Z"
    }
   },
   "source": [
    "def isGerrymanderPossible(df):\n",
    "    \"\"\"\n",
    "    Determines if gerrymandering is possible given a dataframe that contains REP voting and Total votes \n",
    "    for precincts in two neighboring districts.\n",
    "    \n",
    "    Parameters:\n",
    "    df (pandas.DataFrame): DataFrame with columns 'REP_VOTES' and 'Total_Votes' for each precinct\n",
    "    \n",
    "    Returns:\n",
    "    bool: True if gerrymandering is possible, False otherwise\n",
    "    \"\"\"\n",
    "    # Remove dummy row if present\n",
    "    if 'DUMMY ROW' in df['PRECINCT'].values:\n",
    "        df = df[df['PRECINCT'] != 'DUMMY ROW']\n",
    "\n",
    "    # Get basic parameters\n",
    "    n = len(df)  # number of precincts\n",
    "    if n % 2 != 0:\n",
    "        return False  # Need even number of precincts for equal districts\n",
    "\n",
    "    # Calculate Democratic votes for each precinct\n",
    "    rep_votes = df['REP_VOTES'].values\n",
    "    total_votes = df['Total_Votes'].values\n",
    "    m = total_votes[0]  # votes per precinct (assumed constant)\n",
    "\n",
    "    # Create 4D array for dynamic programming\n",
    "    # S[j,k,x,y] = True if from first j precincts:\n",
    "    # k are assigned to D1, with x Republican votes in D1 and y Republican votes in D2\n",
    "    S = np.zeros((n + 1, n + 1, m * n + 1, m * n + 1), dtype=bool)\n",
    "\n",
    "    # Base case\n",
    "    S[0, 0, 0, 0] = True\n",
    "\n",
    "    # Fill the DP table\n",
    "    for j in range(1, n + 1):\n",
    "        R_j = rep_votes[j - 1]  # Republican votes in precinct j\n",
    "        for k in range(min(j + 1, n // 2 + 1)):  # Can't assign more than j precincts\n",
    "            for x in range(m * n + 1):\n",
    "                for y in range(m * n + 1):\n",
    "                    # Try assigning precinct j to district 1\n",
    "                    if k > 0 and x >= R_j and S[j - 1, k - 1, x - R_j, y]:\n",
    "                        S[j, k, x, y] = True\n",
    "                    # Try assigning precinct j to district 2\n",
    "                    elif y >= R_j and S[j - 1, k, x, y - R_j]:\n",
    "                        S[j, k, x, y] = True\n",
    "\n",
    "    # Check if gerrymandering is possible\n",
    "    # Need n/2 precincts in each district with enough Republican voters\n",
    "    min_rep_votes = m * n // 4 + 1  # Need majority in both districts\n",
    "\n",
    "    for x in range(min_rep_votes, m * n + 1):\n",
    "        for y in range(min_rep_votes, m * n + 1):\n",
    "            if S[n, n // 2, x, y]:\n",
    "                # Print the solution if found\n",
    "                print(\"\\nGerrymandering solution found!\")\n",
    "                print(f\"District 1: {x} Republican votes\")\n",
    "                print(f\"District 2: {y} Republican votes\")\n",
    "\n",
    "                # Reconstruct the solution\n",
    "                solution = reconstruct_solution(df, S, n, n // 2, x, y, rep_votes)\n",
    "                print(\"\\nPrecinct assignments:\")\n",
    "                print(\"District 1:\", solution[0])\n",
    "                print(\"District 2:\", solution[1])\n",
    "                return True\n",
    "\n",
    "    return False\n",
    "\n",
    "\n",
    "def reconstruct_solution(df, S, j, k, x, y, rep_votes):\n",
    "    \"\"\"\n",
    "    Reconstructs the district assignments that achieve the gerrymandering solution.\n",
    "    \n",
    "    Parameters:\n",
    "    df: Original dataframe\n",
    "    S: Dynamic programming table\n",
    "    j, k, x, y: Current state in backtracking\n",
    "    rep_votes: Array of Republican votes per precinct\n",
    "    \n",
    "    Returns:\n",
    "    tuple: Lists of precinct names for each district\n",
    "    \"\"\"\n",
    "    if j == 0:\n",
    "        return [], []\n",
    "\n",
    "    R_j = rep_votes[j - 1]\n",
    "    precinct = df.iloc[j - 1]['PRECINCT']\n",
    "\n",
    "    # Try assigning to district 1\n",
    "    if k > 0 and x >= R_j and S[j - 1, k - 1, x - R_j, y]:\n",
    "        d1, d2 = reconstruct_solution(df, S, j - 1, k - 1, x - R_j, y, rep_votes)\n",
    "        d1.append(precinct)\n",
    "        return d1, d2\n",
    "\n",
    "    # Must have been assigned to district 2\n",
    "    d1, d2 = reconstruct_solution(df, S, j - 1, k, x, y - R_j, rep_votes)\n",
    "    d2.append(precinct)\n",
    "    return d1, d2"
   ],
   "outputs": [],
   "execution_count": 381
  },
  {
   "cell_type": "markdown",
   "metadata": {
    "id": "vNTUq_irpLAK"
   },
   "source": [
    "### 4) Algorithmic Analysis (10 pts)\n",
    "\n",
    "The algorithm utilizes a 4-dimensional dynamic programming table $S[j, k, x, y]$, where:\n",
    "\n",
    "- $j$ is the number of precincts considered so far.\n",
    "- $k$ is the number of precincts assigned to District 1.\n",
    "- $x$ and $y$ represent the number of Republican votes in Districts 1 and 2, respectively.\n",
    "\n",
    "#### **Time Complexity Analysis**\n",
    "- The size of the DP table is $O(n^2 \\times m^2)$, where:\n",
    "  - $n$ is the number of precincts.\n",
    "  - $m$ is the number of voters per precinct.\n",
    "- The algorithm iterates over all possible values of $j, k, x, y$, leading to a time complexity of:\n",
    "  $\n",
    "  O(n^2 \\times m^2)\n",
    "  $\n",
    "- This complexity arises because the algorithm explores all combinations of precinct assignments and vote distributions.\n",
    "\n",
    "#### **Empirical Results**\n",
    "- Execution times for increasing $n$ (with $m = 100$):\n",
    "  - $n = 4$: 0.4 seconds\n",
    "  - $n = 6$: 2.0 seconds\n",
    "  - $n = 8$: 5.7 seconds\n",
    "  - $n = 10$: 13.5 seconds\n",
    "- As $n$ increases, the execution time grows rapidly, confirming the theoretical complexity.\n"
   ]
  },
  {
   "cell_type": "markdown",
   "metadata": {
    "id": "BFouLr3VRey6"
   },
   "source": [
    "# 5) Test your algorithm (5 pts)\n",
    "\n",
    "Run your algorithm on the example data set below. Is gerrymandering possible?\n",
    "Create two other synthtetic data sets (dataframes ... like the one below): one where gerrymandering is possible and one where gerrymandering is not possible. Confirm your hypothesis using your implementation. "
   ]
  },
  {
   "cell_type": "code",
   "metadata": {
    "id": "j0tloVafRd_I",
    "colab": {
     "base_uri": "https://localhost:8080/"
    },
    "outputId": "ba629faa-aad5-4900-c7b3-89fdd64288e3",
    "ExecuteTime": {
     "end_time": "2024-11-08T20:50:43.858198Z",
     "start_time": "2024-11-08T20:50:42.553932Z"
    }
   },
   "source": [
    "precinct_data = pd.DataFrame()\n",
    "precinct_data = precinct_data.append(\n",
    "    pd.DataFrame({\"PRECINCT\": \"DUMMY ROW\", \"District\": 0, \"REP_VOTES\": 0, \"DEM_VOTES\": 0, \"Total_Votes\": 0}, index=[0]))\n",
    "precinct_data = precinct_data.append(\n",
    "    pd.DataFrame({\"PRECINCT\": \"92\", \"District\": 1, \"REP_VOTES\": 65, \"DEM_VOTES\": 35, \"Total_Votes\": 100}, index=[0]))\n",
    "precinct_data = precinct_data.append(\n",
    "    pd.DataFrame({\"PRECINCT\": \"93\", \"District\": 1, \"REP_VOTES\": 60, \"DEM_VOTES\": 40, \"Total_Votes\": 100}, index=[0]))\n",
    "precinct_data = precinct_data.append(\n",
    "    pd.DataFrame({\"PRECINCT\": \"94\", \"District\": 2, \"REP_VOTES\": 45, \"DEM_VOTES\": 55, \"Total_Votes\": 100}, index=[0]))\n",
    "precinct_data = precinct_data.append(\n",
    "    pd.DataFrame({\"PRECINCT\": \"95\", \"District\": 2, \"REP_VOTES\": 47, \"DEM_VOTES\": 53, \"Total_Votes\": 100}, index=[0]))\n",
    "precinct_data.reset_index(inplace=True)\n",
    "precinct_data.drop('index', axis=1, inplace=True)\n",
    "\n",
    "LetsRun = isGerrymanderPossible(precinct_data)\n",
    "\n",
    "if LetsRun:\n",
    "    print(\"GerryMandering is possible\\n\")\n",
    "else:\n",
    "    print(\"GerryMandering is not possible\\n\")\n",
    "\n",
    "# Create a synthetic dataset where gerrymandering is possible\n",
    "data_possible = pd.DataFrame()\n",
    "data_possible = data_possible.append(\n",
    "    pd.DataFrame({\"PRECINCT\": \"DUMMY ROW\", \"District\": 0, \"REP_VOTES\": 0, \"DEM_VOTES\": 0, \"Total_Votes\": 0}, index=[0]))\n",
    "data_possible = data_possible.append(\n",
    "    pd.DataFrame({\"PRECINCT\": \"1\", \"District\": 1, \"REP_VOTES\": 70, \"DEM_VOTES\": 30, \"Total_Votes\": 100}, index=[0]))\n",
    "data_possible = data_possible.append(\n",
    "    pd.DataFrame({\"PRECINCT\": \"2\", \"District\": 1, \"REP_VOTES\": 65, \"DEM_VOTES\": 35, \"Total_Votes\": 100}, index=[0]))\n",
    "data_possible = data_possible.append(\n",
    "    pd.DataFrame({\"PRECINCT\": \"3\", \"District\": 2, \"REP_VOTES\": 40, \"DEM_VOTES\": 60, \"Total_Votes\": 100}, index=[0]))\n",
    "data_possible = data_possible.append(\n",
    "    pd.DataFrame({\"PRECINCT\": \"4\", \"District\": 2, \"REP_VOTES\": 35, \"DEM_VOTES\": 65, \"Total_Votes\": 100}, index=[0]))\n",
    "data_possible.reset_index(inplace=True)\n",
    "data_possible.drop('index', axis=1, inplace=True)\n",
    "\n",
    "# Test the function with the synthetic data where gerrymandering is possible\n",
    "LetsRun = isGerrymanderPossible(data_possible)\n",
    "\n",
    "if LetsRun:\n",
    "    print(\"Gerrymandering is possible\\n\")\n",
    "else:\n",
    "    print(\"Gerrymandering is not possible\\n\")\n",
    "\n",
    "# Create a synthetic dataset where gerrymandering is not possible\n",
    "data_not_possible = pd.DataFrame()\n",
    "data_not_possible = data_not_possible.append(\n",
    "    pd.DataFrame({\"PRECINCT\": \"DUMMY ROW\", \"District\": 0, \"REP_VOTES\": 0, \"DEM_VOTES\": 0, \"Total_Votes\": 0}, index=[0]))\n",
    "data_not_possible = data_not_possible.append(\n",
    "    pd.DataFrame({\"PRECINCT\": \"1\", \"District\": 1, \"REP_VOTES\": 50, \"DEM_VOTES\": 50, \"Total_Votes\": 100}, index=[0]))\n",
    "data_not_possible = data_not_possible.append(\n",
    "    pd.DataFrame({\"PRECINCT\": \"2\", \"District\": 1, \"REP_VOTES\": 50, \"DEM_VOTES\": 50, \"Total_Votes\": 100}, index=[0]))\n",
    "data_not_possible = data_not_possible.append(\n",
    "    pd.DataFrame({\"PRECINCT\": \"3\", \"District\": 2, \"REP_VOTES\": 50, \"DEM_VOTES\": 50, \"Total_Votes\": 100}, index=[0]))\n",
    "data_not_possible = data_not_possible.append(\n",
    "    pd.DataFrame({\"PRECINCT\": \"4\", \"District\": 2, \"REP_VOTES\": 50, \"DEM_VOTES\": 50, \"Total_Votes\": 100}, index=[0]))\n",
    "data_not_possible.reset_index(inplace=True)\n",
    "data_not_possible.drop('index', axis=1, inplace=True)\n",
    "\n",
    "# Test the function with the synthetic data where gerrymandering is not possible\n",
    "LetsRun = isGerrymanderPossible(data_not_possible)\n",
    "\n",
    "if LetsRun:\n",
    "    print(\"Gerrymandering is possible\")\n",
    "else:\n",
    "    print(\"Gerrymandering is not possible\")"
   ],
   "outputs": [
    {
     "name": "stdout",
     "output_type": "stream",
     "text": [
      "\n",
      "Gerrymandering solution found!\n",
      "District 1: 105 Republican votes\n",
      "District 2: 112 Republican votes\n",
      "\n",
      "Precinct assignments:\n",
      "District 1: ['93', '94']\n",
      "District 2: ['92', '95']\n",
      "GerryMandering is possible\n",
      "\n",
      "\n",
      "Gerrymandering solution found!\n",
      "District 1: 105 Republican votes\n",
      "District 2: 105 Republican votes\n",
      "\n",
      "Precinct assignments:\n",
      "District 1: ['1', '4']\n",
      "District 2: ['2', '3']\n",
      "Gerrymandering is possible\n",
      "\n",
      "Gerrymandering is not possible\n"
     ]
    }
   ],
   "execution_count": 382
  },
  {
   "cell_type": "markdown",
   "metadata": {
    "id": "wPARVGjCpLAM"
   },
   "source": [
    "# 6) Real-world Data Trials (15 pts) \n",
    "\n",
    "\n",
    "\n",
    "\n",
    "\n",
    "There are voter data from 5 states available herein: Alaska, Arizona, Kentucky, North Carolina, and Rhode Island. For this question you are asked to analyze Arizona and Kentucky Data. \n",
    "\n",
    "Note: In the example below the data is \"preprocessed\" to match our assumptions and downsized for reasonable experimental runtimes. "
   ]
  },
  {
   "cell_type": "markdown",
   "metadata": {
    "id": "JX_L9nP251-J"
   },
   "source": [
    "### Notes about the tables\n",
    "\n",
    "The create statements are stored in scripts in github including tables.sql.\n",
    "\n",
    "Two tables in the schema:  \n",
    "\n",
    "*  Precinct:  Holds all data for precincts, districts, and number of voter registrations by party.  There is a row for every party in each precinct, so precinct is not a unique key.  Additionally, within states, precinct is not unique, it must be used with district.\n",
    "\n",
    "* Party:  An id and party name, just to keep the party data consistent within our database - party names and abbreviations change between states, but here we want them to be consistent.  Party can be joined with precinct on precinct.party = party.id\n"
   ]
  },
  {
   "cell_type": "code",
   "metadata": {
    "id": "u_05MUkvDZzE",
    "colab": {
     "base_uri": "https://localhost:8080/"
    },
    "outputId": "470fe47c-9c39-47bf-b772-2597661f7a3d",
    "ExecuteTime": {
     "end_time": "2024-11-08T20:50:43.991743Z",
     "start_time": "2024-11-08T20:50:43.872902Z"
    }
   },
   "source": [
    "## Build the table structure\n",
    "## We have two tables:  party and precinct\n",
    "\n",
    "## The github url for the tables script\n",
    "create_tables = 'https://raw.githubusercontent.com/boltonvandy/gerrymander/main/State_Data/tables.sql'\n",
    "\n",
    "## GET contents of the tables.sql script from github\n",
    "dat = gitread.request(\"GET\", create_tables)\n",
    "\n",
    "## Execute the table creation commands \n",
    "cursor.executescript(dat.data.decode(\"utf-8\"))\n",
    "\n",
    "## Preprocess for algorithm to use\n",
    "view_def = ''' \n",
    "CREATE VIEW for_algo AS\n",
    "SELECT * FROM\n",
    "((SELECT STATE, PRECINCT, DISTRICT, VOTERS as REP_VOTES\n",
    "FROM precinct WHERE PARTY = 'REP') NATURAL JOIN (\n",
    "SELECT STATE, PRECINCT, DISTRICT, SUM(VOTERS) as Total_Votes\n",
    "FROM precinct\n",
    "WHERE (PARTY = 'REP' OR PARTY = 'DEM') \n",
    "GROUP BY STATE, PRECINCT, DISTRICT))\n",
    "'''\n",
    "\n",
    "cursor.execute(view_def)\n",
    "\n",
    "## Commit Schema Changes\n",
    "conn.commit()\n",
    "\n",
    "## Confirm the names of the tables we built\n",
    "ourtables = cursor.execute(\"SELECT name FROM sqlite_master WHERE type='table'\")\n",
    "\n",
    "if ourtables:\n",
    "    print('\\nTables in the Gerrymander Database\\n')\n",
    "    for atable in ourtables:\n",
    "        print(\"\\t\" + atable[0])"
   ],
   "outputs": [
    {
     "name": "stdout",
     "output_type": "stream",
     "text": [
      "\n",
      "Tables in the Gerrymander Database\n",
      "\n",
      "\tprecinct\n",
      "\tparty\n"
     ]
    }
   ],
   "execution_count": 383
  },
  {
   "cell_type": "markdown",
   "metadata": {
    "id": "INZPOin09Mix"
   },
   "source": [
    "##Example usage: Arizona\n",
    "\n",
    "Here,the data from Arizona is loaded into the database.  \n",
    "\n",
    "[Original Arizona Data on Kaggle](https://www.kaggle.com/arizonaSecofState/arizona-voter-registration-by-precinct)"
   ]
  },
  {
   "cell_type": "code",
   "metadata": {
    "colab": {
     "base_uri": "https://localhost:8080/"
    },
    "id": "FXaIP5nM2tDD",
    "outputId": "50757128-13bb-45e0-faee-d673f56a1eef",
    "ExecuteTime": {
     "end_time": "2024-11-08T20:50:44.190686Z",
     "start_time": "2024-11-08T20:50:44.008133Z"
    }
   },
   "source": [
    "## Arizona\n",
    "cursor.execute(\"DELETE FROM precinct WHERE STATE = 'AZ'\")\n",
    "conn.commit()\n",
    "\n",
    "az_url = 'https://raw.githubusercontent.com/boltonvandy/gerrymander/main/State_Data/az/az.insert.sql'\n",
    "\n",
    "## GET contents of the script from a github url \n",
    "dat = gitread.request(\"GET\", az_url)\n",
    "\n",
    "## INSERT Data using statements from the github insert script\n",
    "cursor.executescript(dat.data.decode(\"utf-8\"))\n",
    "conn.commit()\n",
    "\n",
    "## Quick verification that data was loaded for this state\n",
    "cursor.execute(\"SELECT count(*) from precinct\")\n",
    "verify = cursor.fetchone()[0]\n",
    "\n",
    "cursor.execute(\"SELECT sum(voters), party from precinct where state = 'AZ' group by party order by 1 DESC\")\n",
    "print(verify, cursor.fetchall())"
   ],
   "outputs": [
    {
     "name": "stdout",
     "output_type": "stream",
     "text": [
      "7270 [(1308384, 'REP'), (1251984, 'OTH'), (1169259, 'DEM'), (32096, 'LBT'), (6535, 'GRN')]\n"
     ]
    }
   ],
   "execution_count": 384
  },
  {
   "cell_type": "markdown",
   "metadata": {
    "id": "LfwaHd8hjGSs"
   },
   "source": [
    "## 6a) Arizona Districts 1,2,&3   (5 out of 15 pts)\n",
    "\n",
    "In this example, assume Districts 1/2 and 2/3 are neighboring and that precincts can be reassigned between them. Confirm (both using your code and manually) that Gerrymandering is possible between districts 2 & 3, but not 1 & 2 (given the preprocessing steps, assumptions, and downsampling done below). For the former, what is the Precinct breakdown? Your answer should be shown as code output. \n"
   ]
  },
  {
   "cell_type": "code",
   "metadata": {
    "id": "ghZedtBJ4tDk",
    "colab": {
     "base_uri": "https://localhost:8080/"
    },
    "outputId": "07f0a8fe-cd47-40cb-c411-d96885025d79",
    "ExecuteTime": {
     "end_time": "2024-11-08T20:50:55.837335Z",
     "start_time": "2024-11-08T20:50:44.207896Z"
    }
   },
   "source": [
    "def fetch_and_prepare_arizona_data(district1, district2):\n",
    "    \"\"\"\n",
    "    Fetch and prepare data for two Arizona districts.\n",
    "    \"\"\"\n",
    "    # Fetch data for the first district\n",
    "    sql_d1 = f'''\n",
    "    SELECT * from for_algo where state = 'AZ' AND (DISTRICT = {district1})\n",
    "    '''\n",
    "    district1_data = pd.read_sql_query(sql_d1, conn).head(4)\n",
    "\n",
    "    # Fetch data for the second district\n",
    "    sql_d2 = f'''\n",
    "    SELECT * from for_algo where state = 'AZ' AND (DISTRICT = {district2})\n",
    "    '''\n",
    "    district2_data = pd.read_sql_query(sql_d2, conn).head(4)\n",
    "\n",
    "    # Combine data from both districts\n",
    "    combined_data = district1_data.append(district2_data)\n",
    "    combined_data = combined_data.reset_index(drop=True)\n",
    "\n",
    "    # Rescale data\n",
    "    combined_data[\"REP_VOTES\"] = combined_data[\"REP_VOTES\"] / combined_data[\"Total_Votes\"]\n",
    "    combined_data[\"REP_VOTES\"] = pd.Series(\n",
    "        [math.ceil(combined_data[\"REP_VOTES\"][x] * 100) for x in range(len(combined_data.index))]\n",
    "    )\n",
    "    combined_data[\"Total_Votes\"] = pd.Series([100 for _ in range(len(combined_data.index))])\n",
    "\n",
    "    return combined_data\n",
    "\n",
    "def analyze_arizona_districts(district1, district2):\n",
    "    \"\"\"\n",
    "    Analyze if gerrymandering is possible between two Arizona districts.\n",
    "    \"\"\"\n",
    "    data = fetch_and_prepare_arizona_data(district1, district2)\n",
    "    print(f\"\\nAnalyzing Districts {district1} and {district2}:\")\n",
    "    print(data)\n",
    "    print(f\"\\nTesting if Districts {district1} and {district2} can be gerrymandered:\")\n",
    "    if isGerrymanderPossible(data):\n",
    "        print(f\"Gerrymandering IS possible between Districts {district1} and {district2}\")\n",
    "    else:\n",
    "        print(f\"Gerrymandering is NOT possible between Districts {district1} and {district2}\")\n",
    "\n",
    "def run_arizona_analysis():\n",
    "    \"\"\"\n",
    "    Run analysis for specified Arizona districts.\n",
    "    \"\"\"\n",
    "    # Analyze districts 1 and 2\n",
    "    analyze_arizona_districts(1, 2)\n",
    "    # Analyze districts 2 and 3\n",
    "    analyze_arizona_districts(2, 3)\n",
    "\n",
    "# Run the analysis\n",
    "run_arizona_analysis()"
   ],
   "outputs": [
    {
     "name": "stdout",
     "output_type": "stream",
     "text": [
      "\n",
      "Analyzing Districts 1 and 2:\n",
      "  STATE PRECINCT DISTRICT  REP_VOTES  Total_Votes\n",
      "0    AZ   AP0002        1         75          100\n",
      "1    AZ   AP0003        1         16          100\n",
      "2    AZ   AP0005        1         18          100\n",
      "3    AZ   AP0009        1         79          100\n",
      "4    AZ   CH0001        2         65          100\n",
      "5    AZ   CH0002        2         75          100\n",
      "6    AZ   CH0003        2         63          100\n",
      "7    AZ   CH0004        2         18          100\n",
      "\n",
      "Testing if Districts 1 and 2 can be gerrymandered:\n",
      "Gerrymandering is NOT possible between Districts 1 and 2\n",
      "\n",
      "Analyzing Districts 2 and 3:\n",
      "  STATE PRECINCT DISTRICT  REP_VOTES  Total_Votes\n",
      "0    AZ   CH0001        2         65          100\n",
      "1    AZ   CH0002        2         75          100\n",
      "2    AZ   CH0003        2         63          100\n",
      "3    AZ   CH0004        2         18          100\n",
      "4    AZ   MC0016        3         36          100\n",
      "5    AZ   MC0029        3         76          100\n",
      "6    AZ   MC0037        3         26          100\n",
      "7    AZ   MC0062        3         53          100\n",
      "\n",
      "Testing if Districts 2 and 3 can be gerrymandered:\n",
      "\n",
      "Gerrymandering solution found!\n",
      "District 1: 201 Republican votes\n",
      "District 2: 211 Republican votes\n",
      "\n",
      "Precinct assignments:\n",
      "District 1: ['CH0003', 'MC0016', 'MC0029', 'MC0037']\n",
      "District 2: ['CH0001', 'CH0002', 'CH0004', 'MC0062']\n",
      "Gerrymandering IS possible between Districts 2 and 3\n"
     ]
    }
   ],
   "execution_count": 385
  },
  {
   "cell_type": "markdown",
   "metadata": {
    "id": "Km2xsQtcB5FC"
   },
   "source": [
    "### 6b) Kentucky Districts   (10 out of 15 pts)\n",
    "\n",
    "In this example, find two districts that are gerrymanderable and two that are not. Perform similar preprocessing steps as done in the Arizona data set, eg select 4 precincts, downsample and rescale. Confirm both district pairs using your code and manually. For the district pair that is gerrymanderable, what is the Precinct breakdown? Your answer should be shown as code output. \n"
   ]
  },
  {
   "cell_type": "code",
   "metadata": {
    "id": "lKtyVWzivSC7",
    "colab": {
     "base_uri": "https://localhost:8080/"
    },
    "outputId": "1775f182-c04f-4ec1-c797-5d84b362c3ed",
    "ExecuteTime": {
     "end_time": "2024-11-08T20:50:56.038520Z",
     "start_time": "2024-11-08T20:50:55.851841Z"
    }
   },
   "source": [
    "## Kentucky!\n",
    "# NOTE: the Kentucky Districts are stored as Strings. Be sure to build your query correctly :)\n",
    "# See here: https://github.com/boltonvandy/gerrymander/tree/main/State_Data\n",
    "\n",
    "cursor.execute(\"DELETE FROM precinct WHERE STATE = 'KY'\")\n",
    "conn.commit()\n",
    "\n",
    "ky_url = 'https://raw.githubusercontent.com/boltonvandy/gerrymander/main/State_Data/ky/ky.insert.sql'\n",
    "\n",
    "## GET contents of the script from a github url \n",
    "dat = gitread.request(\"GET\", ky_url)\n",
    "\n",
    "## INSERT Data using statements from the github insert script\n",
    "cursor.executescript(dat.data.decode(\"utf-8\"))\n",
    "conn.commit()\n",
    "\n",
    "## Quick verification that data was loaded for this state\n",
    "cursor.execute(\"SELECT count(*) from precinct\")\n",
    "verify = cursor.fetchone()[0]\n",
    "\n",
    "cursor.execute(\"SELECT sum(voters), party from precinct where state = 'KY' group by party order by 1 DESC\")\n",
    "print(verify, cursor.fetchall())"
   ],
   "outputs": [
    {
     "name": "stdout",
     "output_type": "stream",
     "text": [
      "40498 [(1649790, 'DEM'), (1576259, 'REP'), (184839, 'OTH'), (131242, 'IND'), (14326, 'LBT'), (2014, 'GRN'), (1012, 'CONST'), (322, 'SOCWK'), (157, 'REFORM')]\n"
     ]
    }
   ],
   "execution_count": 386
  },
  {
   "cell_type": "code",
   "metadata": {
    "id": "VLjXj5R4jPgz",
    "ExecuteTime": {
     "end_time": "2024-11-08T20:51:07.765571Z",
     "start_time": "2024-11-08T20:50:56.053148Z"
    }
   },
   "source": [
    "def fetch_and_prepare_kentucky_data(district1, district2):\n",
    "    \"\"\"\n",
    "    Fetch and prepare data for two districts.\n",
    "    \"\"\"\n",
    "    # Fetch data for the first district\n",
    "    sql_d1 = f'''\n",
    "    SELECT DISTINCT p1.PRECINCT, \n",
    "           (SELECT VOTERS FROM precinct p2 \n",
    "            WHERE p2.PRECINCT = p1.PRECINCT \n",
    "            AND p2.PARTY = 'REP') as REP_VOTES,\n",
    "           SUM(p1.VOTERS) as Total_Votes\n",
    "    FROM precinct p1\n",
    "    WHERE p1.STATE = 'KY' \n",
    "    AND p1.DISTRICT LIKE '{district1}%'\n",
    "    AND (p1.PARTY = 'REP' OR p1.PARTY = 'DEM')\n",
    "    GROUP BY p1.PRECINCT\n",
    "    LIMIT 4\n",
    "    '''\n",
    "    district1_data = pd.read_sql_query(sql_d1, conn)\n",
    "\n",
    "    # Fetch data for the second district\n",
    "    sql_d2 = f'''\n",
    "    SELECT DISTINCT p1.PRECINCT, \n",
    "           (SELECT VOTERS FROM precinct p2 \n",
    "            WHERE p2.PRECINCT = p1.PRECINCT \n",
    "            AND p2.PARTY = 'REP') as REP_VOTES,\n",
    "           SUM(p1.VOTERS) as Total_Votes\n",
    "    FROM precinct p1\n",
    "    WHERE p1.STATE = 'KY' \n",
    "    AND p1.DISTRICT LIKE '{district2}%'\n",
    "    AND (p1.PARTY = 'REP' OR p1.PARTY = 'DEM')\n",
    "    GROUP BY p1.PRECINCT\n",
    "    LIMIT 4\n",
    "    '''\n",
    "    district2_data = pd.read_sql_query(sql_d2, conn)\n",
    "\n",
    "    # Combine data from both districts\n",
    "    combined_data = district1_data.append(district2_data)\n",
    "    combined_data = combined_data.reset_index(drop=True)\n",
    "\n",
    "    # Scale the data\n",
    "    combined_data[\"REP_VOTES\"] = combined_data[\"REP_VOTES\"] / combined_data[\"Total_Votes\"]\n",
    "    combined_data[\"REP_VOTES\"] = pd.Series(\n",
    "        [math.ceil(combined_data[\"REP_VOTES\"][x] * 100) for x in range(len(combined_data.index))]\n",
    "    )\n",
    "    combined_data[\"Total_Votes\"] = pd.Series([100 for _ in range(len(combined_data.index))])\n",
    "\n",
    "    return combined_data\n",
    "\n",
    "def analyze_kentucky_districts(district1, district2):\n",
    "    \"\"\"\n",
    "    Analyze if gerrymandering is possible between two districts.\n",
    "    \"\"\"\n",
    "    data = fetch_and_prepare_kentucky_data(district1, district2)\n",
    "    print(f\"\\nDistricts {district1} and {district2} Data:\")\n",
    "    print(data)\n",
    "    print(f\"\\nTesting if Districts {district1} and {district2} can be gerrymandered:\")\n",
    "    if isGerrymanderPossible(data):\n",
    "        print(f\"Gerrymandering IS possible between Districts {district1} and {district2}\")\n",
    "    else:\n",
    "        print(f\"Gerrymandering is NOT possible between Districts {district1} and {district2}\")\n",
    "\n",
    "def run_kentucky_analysis():\n",
    "    \"\"\"\n",
    "    Run analysis for Kentucky districts.\n",
    "    \"\"\"\n",
    "    # Analyze districts 1 and 2\n",
    "    analyze_kentucky_districts('1', '2')\n",
    "    # Analyze districts 3 and 4\n",
    "    analyze_kentucky_districts('3', '4')\n",
    "\n",
    "# Run the analysis\n",
    "run_kentucky_analysis()"
   ],
   "outputs": [
    {
     "name": "stdout",
     "output_type": "stream",
     "text": [
      "\n",
      "Districts 1 and 2 Data:\n",
      "  PRECINCT  REP_VOTES  Total_Votes\n",
      "0     A001         61          100\n",
      "1     A002        115          100\n",
      "2     A003         32          100\n",
      "3     A004        242          100\n",
      "4     A001         51          100\n",
      "5     A002         41          100\n",
      "6     A003         37          100\n",
      "7     A004         44          100\n",
      "\n",
      "Testing if Districts 1 and 2 can be gerrymandered:\n",
      "\n",
      "Gerrymandering solution found!\n",
      "District 1: 225 Republican votes\n",
      "District 2: 398 Republican votes\n",
      "\n",
      "Precinct assignments:\n",
      "District 1: ['A002', 'A003', 'A002', 'A003']\n",
      "District 2: ['A001', 'A004', 'A001', 'A004']\n",
      "Gerrymandering IS possible between Districts 1 and 2\n",
      "\n",
      "Districts 3 and 4 Data:\n",
      "  PRECINCT  REP_VOTES  Total_Votes\n",
      "0     A105         27          100\n",
      "1     A107         55          100\n",
      "2     A108         74          100\n",
      "3     A111         97          100\n",
      "4     A101          6          100\n",
      "5     A102          4          100\n",
      "6     A103          1          100\n",
      "7     A104          8          100\n",
      "\n",
      "Testing if Districts 3 and 4 can be gerrymandered:\n",
      "Gerrymandering is NOT possible between Districts 3 and 4\n"
     ]
    }
   ],
   "execution_count": 387
  },
  {
   "metadata": {
    "ExecuteTime": {
     "end_time": "2024-11-08T20:51:07.782448Z",
     "start_time": "2024-11-08T20:51:07.781028Z"
    }
   },
   "cell_type": "code",
   "source": "",
   "outputs": [],
   "execution_count": null
  }
 ]
}
